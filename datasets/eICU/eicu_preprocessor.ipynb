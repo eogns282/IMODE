{
 "cells": [
  {
   "cell_type": "code",
   "execution_count": null,
   "metadata": {},
   "outputs": [],
   "source": [
    "import numpy as np\n",
    "import pandas as pd\n",
    "import pickle\n",
    "\n",
    "from tqdm.notebook import tqdm"
   ]
  },
  {
   "cell_type": "code",
   "execution_count": null,
   "metadata": {},
   "outputs": [],
   "source": [
    "# Load the preprocessed data.\n",
    "obs_path = './obs_periodic.p'\n",
    "obs = pickle.load(open(obs_path, 'rb'))\n",
    "\n",
    "infusion_path = './infusionDrug.csv'"
   ]
  },
  {
   "cell_type": "code",
   "execution_count": null,
   "metadata": {},
   "outputs": [],
   "source": [
    "print(len(obs[2760705]))  # 2760705 pateint has 1113 observational datas"
   ]
  },
  {
   "cell_type": "code",
   "execution_count": null,
   "metadata": {},
   "outputs": [],
   "source": [
    "obs[2760705][:5]"
   ]
  },
  {
   "cell_type": "code",
   "execution_count": null,
   "metadata": {},
   "outputs": [],
   "source": [
    "# List of patient IDs \n",
    "pids = list(obs.keys())\n",
    "pids[:5]"
   ]
  },
  {
   "cell_type": "code",
   "execution_count": null,
   "metadata": {},
   "outputs": [],
   "source": [
    "# Collecting only Systolic BP, Diastolic BP, Mean BP\n",
    "pids = list(obs.keys())\n",
    "obs_bp = {}\n",
    "for pid in tqdm(pids):\n",
    "    time_bp = []\n",
    "    for (timestamp, measures) in obs[pid]:\n",
    "        measures = np.array(measures)\n",
    "        if measures[6:9].min() < 0:  # measures 6,7,8 are related to BP\n",
    "            continue\n",
    "        time_bp.append((timestamp, measures[6:9]))\n",
    "    obs_bp[pid] = time_bp"
   ]
  },
  {
   "cell_type": "code",
   "execution_count": null,
   "metadata": {},
   "outputs": [],
   "source": [
    "obs_bp[2760705][:5]"
   ]
  },
  {
   "cell_type": "code",
   "execution_count": null,
   "metadata": {},
   "outputs": [],
   "source": [
    "print(len(obs_bp[2760705]))  # 1113 observations => 217 observations"
   ]
  },
  {
   "cell_type": "code",
   "execution_count": null,
   "metadata": {},
   "outputs": [],
   "source": [
    "# Select patients with at least 50 BP measures.\n",
    "lens = np.array([len(v) for k, v in obs_bp.items()])\n",
    "obs_bp_50 = dict([(k, v) for k, v in obs_bp.items() if len(v) > 49])\n",
    "pids_50 = list(obs_bp_50.keys())"
   ]
  },
  {
   "cell_type": "code",
   "execution_count": null,
   "metadata": {},
   "outputs": [],
   "source": [
    "# List of medications that affect BP.\n",
    "vaso_list = [\n",
    "    'epoprostenol',\n",
    "    'nitroglycerin',\n",
    "    'nitroprusside',\n",
    "    'labetalol',\n",
    "    'esomolol',\n",
    "    'nicardipine',\n",
    "    'clevidipine',\n",
    "    'milrinone',\n",
    "    'esmolol',\n",
    "    'nicardipine',\n",
    "    'isoproterenol',\n",
    "    'isoprenaline',\n",
    "    'furosemide',\n",
    "    'diltiazem',\n",
    "    'cardizem',\n",
    "    'amiodarone',\n",
    "    'propofol',\n",
    "    'norepinephrine',\n",
    "    'dopamine',\n",
    "    'phenylephrine',\n",
    "    'vasopressin',\n",
    "    'dobutamine',\n",
    "]\n",
    "vaso_set = set(vaso_list)"
   ]
  },
  {
   "cell_type": "code",
   "execution_count": null,
   "metadata": {},
   "outputs": [],
   "source": [
    "# Extract BP-related medication info from infusionDrug.csv for patients with at least 50 BP measures.\n",
    "targetIcuIdSet = set(pids_50)\n",
    "infusionDict = {}\n",
    "for icuId in targetIcuIdSet:\n",
    "    infusionDict[icuId] = []\n",
    "    \n",
    "with open(infusion_path, 'r') as infd:\n",
    "    infd.readline()\n",
    "    for _ in tqdm(range(4803720 - 1)):\n",
    "        line = infd.readline().strip()\n",
    "        tokens = line.split(',')\n",
    "        icuId = int(tokens[1])\n",
    "        if icuId not in targetIcuIdSet:\n",
    "            continue\n",
    "        drugRate = tokens[-5]\n",
    "        offset = int(tokens[2])\n",
    "        \n",
    "        if len(tokens) > 9:    \n",
    "            drugName = \" \".join(tokens[3:len(tokens) - 9 + 3 + 1])[1:-1]\n",
    "        else:\n",
    "            drugName = tokens[3]\n",
    "        \n",
    "        drugName = drugName.lower()\n",
    "        flag = False\n",
    "        for vaso in vaso_list:\n",
    "            if vaso in drugName:\n",
    "                drugName = vaso\n",
    "                flag = True\n",
    "        if not flag:\n",
    "            continue\n",
    "            \n",
    "        if drugRate == '\"\"':\n",
    "            drugRate = -1.0\n",
    "        else:\n",
    "            drugRate = float(drugRate)\n",
    "        infusionDict[icuId].append((offset, drugName, drugRate))\n",
    "\n",
    "for k, v in infusionDict.items():\n",
    "    v.sort()"
   ]
  },
  {
   "cell_type": "code",
   "execution_count": null,
   "metadata": {},
   "outputs": [],
   "source": [
    "# Top 10 patients with the most BP measures.\n",
    "lens = sorted([(len(v),k) for k,v in obs_bp_50.items()], reverse=True)\n",
    "lens[:10]"
   ]
  },
  {
   "cell_type": "code",
   "execution_count": null,
   "metadata": {},
   "outputs": [],
   "source": [
    "# Merge medications given at the same timestamp. This is required to create the 90-min training samples.\n",
    "\n",
    "def merge_ivs(iv_list, new_iv):\n",
    "    new_drug = new_iv[1]\n",
    "    new_rate = new_iv[2]\n",
    "    flag = False\n",
    "    for i in range(len(iv_list)):\n",
    "        if iv_list[i][1] == new_drug:\n",
    "            iv_list[i] = (iv_list[i][0], iv_list[i][1], iv_list[i][2] + new_rate)\n",
    "            flag = True\n",
    "    if not flag:\n",
    "        iv_list.append(new_iv)\n",
    "    \n",
    "merged_iv_dict = {}\n",
    "for pid, ivs in infusionDict.items():\n",
    "    merged_iv_dict[pid] = []\n",
    "    if not ivs:\n",
    "        continue\n",
    "    iv_list = [ivs[0]]\n",
    "    prev_iv = ivs[0]\n",
    "    last_iv_list = [(-100, '', 0.0)]\n",
    "    for iv in ivs[1:]:\n",
    "        offset = iv[0]\n",
    "        prev_offset = prev_iv[0]\n",
    "        if offset - prev_offset <= 10:\n",
    "            merge_ivs(iv_list, iv)\n",
    "        else:\n",
    "            merged_iv_dict[pid].append(iv_list)\n",
    "            iv_list = [iv]\n",
    "        prev_iv = iv\n",
    "    merged_iv_dict[pid].append(iv_list)"
   ]
  },
  {
   "cell_type": "code",
   "execution_count": null,
   "metadata": {},
   "outputs": [],
   "source": [
    "merged_iv_dict[2885883][:5]"
   ]
  },
  {
   "cell_type": "code",
   "execution_count": null,
   "metadata": {},
   "outputs": [],
   "source": [
    "# Select one patient and create the 90-min training samples.\n",
    "\n",
    "pid = 2885883\n",
    "#pid = 2776825\n",
    "#pid = 3158943\n",
    "#pid = 984944\n",
    "#pid = 1028643\n",
    "#pid = 1037580\n",
    "\n",
    "obs = obs_bp_50[pid]\n",
    "ivs = merged_iv_dict[pid]\n",
    "sample_idx = 0\n",
    "new_obs = []\n",
    "new_ivs = []\n",
    "for i in tqdm(range(1,len(ivs)-1)):\n",
    "    prev_iv = ivs[i-1]\n",
    "    current_iv = ivs[i]\n",
    "    next_iv = ivs[i+1]\n",
    "    \n",
    "    prev_iv_offset = prev_iv[0][0]\n",
    "    current_iv_offset = current_iv[0][0]\n",
    "    next_iv_offset = next_iv[0][0]\n",
    "    \n",
    "    obs_sample = []\n",
    "    for ob in obs:\n",
    "        ob_offset = ob[0]\n",
    "        if ob_offset - prev_iv_offset < 30:\n",
    "            continue\n",
    "        elif ob_offset > next_iv_offset:\n",
    "            break\n",
    "        else:\n",
    "            obs_sample.append(ob)\n",
    "    if obs_sample:\n",
    "        new_ivs.append(current_iv)\n",
    "        new_obs.append(obs_sample)"
   ]
  },
  {
   "cell_type": "code",
   "execution_count": null,
   "metadata": {},
   "outputs": [],
   "source": [
    "# Count the frequency of training samples with a specific sequence length. (18 is the 90-min samples)\n",
    "freqs = {}\n",
    "for obs in new_obs:\n",
    "    length = len(obs)\n",
    "    if length not in freqs:\n",
    "        freqs[length] = 0\n",
    "    freqs[length] += 1\n",
    "len_dict = dict([(i, len(v)) for i, v in enumerate(new_obs)])\n",
    "freqs"
   ]
  },
  {
   "cell_type": "code",
   "execution_count": null,
   "metadata": {},
   "outputs": [],
   "source": [
    "final_obs = []\n",
    "final_ivs = []"
   ]
  },
  {
   "cell_type": "code",
   "execution_count": null,
   "metadata": {},
   "outputs": [],
   "source": [
    "for i, obs in enumerate(new_obs):\n",
    "    if len(obs) == 18:\n",
    "        final_obs.append(obs)\n",
    "        final_ivs.append(new_ivs[i])"
   ]
  },
  {
   "cell_type": "code",
   "execution_count": null,
   "metadata": {},
   "outputs": [],
   "source": [
    "final_obs_array = []\n",
    "for idx, obs in enumerate(final_obs):\n",
    "    for i in range(len(obs)):\n",
    "        final_obs_array.append(np.concatenate((np.array([idx, i, obs[i][0]]), obs[i][1])))"
   ]
  },
  {
   "cell_type": "code",
   "execution_count": null,
   "metadata": {},
   "outputs": [],
   "source": [
    "final_obs_df = pd.DataFrame(np.array(final_obs_array))"
   ]
  },
  {
   "cell_type": "code",
   "execution_count": null,
   "metadata": {},
   "outputs": [],
   "source": [
    "final_obs_df.columns = ['ID', 'Time', 'Real_Time', 'Systolic_BP', 'Diastolic_BP', 'Mean_BP']"
   ]
  },
  {
   "cell_type": "code",
   "execution_count": null,
   "metadata": {},
   "outputs": [],
   "source": [
    "itv_list = []\n",
    "for ivs in final_ivs:\n",
    "    for iv in ivs:\n",
    "        if iv[1] not in itv_list:\n",
    "            itv_list.append(iv[1])"
   ]
  },
  {
   "cell_type": "code",
   "execution_count": null,
   "metadata": {},
   "outputs": [],
   "source": [
    "final_obs_df = pd.concat([final_obs_df, pd.DataFrame(np.zeros((4518, 5)), columns=itv_list)], 1)"
   ]
  },
  {
   "cell_type": "code",
   "execution_count": null,
   "metadata": {},
   "outputs": [],
   "source": [
    "for idx, obs in enumerate(final_obs):\n",
    "    for i in range(len(obs)):\n",
    "        if obs[i][0] == (final_ivs[idx][0][0] - 4):\n",
    "            for j in range(len(final_ivs[idx])):\n",
    "                temp = final_obs_df.iloc[idx * 18 + i].copy()\n",
    "                temp[final_ivs[idx][j][1]] = final_ivs[idx][j][2]\n",
    "                final_obs_df.iloc[idx * 18 + i] = temp"
   ]
  },
  {
   "cell_type": "code",
   "execution_count": null,
   "metadata": {},
   "outputs": [],
   "source": [
    "final_obs_df.to_csv('final_patient.csv', index=False)"
   ]
  },
  {
   "cell_type": "code",
   "execution_count": null,
   "metadata": {},
   "outputs": [],
   "source": [
    "temp = final_obs_df[['Systolic_BP', 'Diastolic_BP', 'Mean_BP', 'norepinephrine', \n",
    "                     'vasopressin', 'propofol', 'amiodarone', 'phenylephrine']].copy()"
   ]
  },
  {
   "cell_type": "code",
   "execution_count": null,
   "metadata": {},
   "outputs": [],
   "source": [
    "temp_max = temp.max(0)\n",
    "temp_min = temp.min(0)\n",
    "\n",
    "temp = (temp - temp_min) / (temp_max - temp_min)"
   ]
  },
  {
   "cell_type": "code",
   "execution_count": null,
   "metadata": {},
   "outputs": [],
   "source": [
    "final_obs_df[['Systolic_BP', 'Diastolic_BP', 'Mean_BP', 'norepinephrine', \n",
    "              'vasopressin', 'propofol', 'amiodarone', 'phenylephrine']] = temp"
   ]
  },
  {
   "cell_type": "code",
   "execution_count": null,
   "metadata": {},
   "outputs": [],
   "source": [
    "final_obs_df.to_csv('final_patient_std.csv', index=False)"
   ]
  },
  {
   "cell_type": "code",
   "execution_count": null,
   "metadata": {},
   "outputs": [],
   "source": [
    "for i in range(251 - 1):\n",
    "    temp = pd.concat([final_obs_df[final_obs_df['ID'] == i], final_obs_df[final_obs_df['ID'] == (i + 1)]])\n",
    "    temp['ID'] = i\n",
    "    temp = pd.concat([temp[:17], temp[23:]])\n",
    "    temp['Time'] = np.arange(len(temp))\n",
    "    if i == 0:\n",
    "        final_obs_df_30 = temp\n",
    "    else:\n",
    "        final_obs_df_30 = pd.concat([final_obs_df_30, temp])"
   ]
  },
  {
   "cell_type": "code",
   "execution_count": null,
   "metadata": {},
   "outputs": [],
   "source": [
    "final_obs_df_30.to_csv('final_patient_30.csv', index=False)"
   ]
  },
  {
   "cell_type": "code",
   "execution_count": null,
   "metadata": {},
   "outputs": [],
   "source": [
    "temp = final_obs_df_30[['Systolic_BP', 'Diastolic_BP', 'Mean_BP', 'norepinephrine', \n",
    "                        'vasopressin', 'propofol', 'amiodarone', 'phenylephrine']].copy()"
   ]
  },
  {
   "cell_type": "code",
   "execution_count": null,
   "metadata": {},
   "outputs": [],
   "source": [
    "temp_max = temp.max(0)\n",
    "temp_min = temp.min(0)"
   ]
  },
  {
   "cell_type": "code",
   "execution_count": null,
   "metadata": {},
   "outputs": [],
   "source": [
    "temp = (temp - temp_min) / (temp_max - temp_min)"
   ]
  },
  {
   "cell_type": "code",
   "execution_count": null,
   "metadata": {},
   "outputs": [],
   "source": [
    "final_obs_df_30[['Systolic_BP', 'Diastolic_BP', 'Mean_BP', 'norepinephrine', \n",
    "                        'vasopressin', 'propofol', 'amiodarone', 'phenylephrine']] = temp"
   ]
  },
  {
   "cell_type": "code",
   "execution_count": null,
   "metadata": {},
   "outputs": [],
   "source": [
    "final_obs_df_30.to_csv('final_patient_30_std.csv', index=False)"
   ]
  }
 ],
 "metadata": {
  "kernelspec": {
   "display_name": "Python 3",
   "language": "python",
   "name": "python3"
  },
  "language_info": {
   "codemirror_mode": {
    "name": "ipython",
    "version": 3
   },
   "file_extension": ".py",
   "mimetype": "text/x-python",
   "name": "python",
   "nbconvert_exporter": "python",
   "pygments_lexer": "ipython3",
   "version": "3.7.6"
  }
 },
 "nbformat": 4,
 "nbformat_minor": 4
}
